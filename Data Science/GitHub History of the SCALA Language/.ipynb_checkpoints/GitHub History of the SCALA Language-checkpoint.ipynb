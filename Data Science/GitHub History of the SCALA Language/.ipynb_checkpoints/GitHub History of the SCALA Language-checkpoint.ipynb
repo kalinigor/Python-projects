{
 "cells": [
  {
   "cell_type": "code",
   "execution_count": 7,
   "id": "84dfa66c",
   "metadata": {},
   "outputs": [
    {
     "name": "stdout",
     "output_type": "stream",
     "text": [
      "\n",
      "Pulls 2011-2013\n",
      "\n",
      "         pid         user                  date\n",
      "0  11166973  VladimirNik  2013-12-31T23:10:55Z\n",
      "1  11161892      Ichoran  2013-12-31T16:55:47Z\n",
      "2  11153894      Ichoran  2013-12-31T02:41:13Z\n",
      "3  11151917      rklaehn  2013-12-30T23:45:47Z\n",
      "4  11131244        qerub  2013-12-29T17:21:01Z\n",
      "\n",
      "Pulls 2014-2018\n",
      "\n",
      "          pid       user                  date\n",
      "0  163314316     hrhino  2018-01-16T23:29:16Z\n",
      "1  163061502   joroKr21  2018-01-15T23:44:52Z\n",
      "2  163057333  mkeskells  2018-01-15T23:05:06Z\n",
      "3  162985594      lrytz  2018-01-15T15:52:39Z\n",
      "4  162838837  zuvizudar  2018-01-14T19:16:16Z\n",
      "\n",
      "Pull files\n",
      "\n",
      "          pid                                   file\n",
      "0  163314316        test/files/pos/t5638/Among.java\n",
      "1  163314316       test/files/pos/t5638/Usage.scala\n",
      "2  163314316             test/files/pos/t9291.scala\n",
      "3  163314316             test/files/run/t8348.check\n",
      "4  163314316  test/files/run/t8348/TableColumn.java\n"
     ]
    }
   ],
   "source": [
    "#Importing data\n",
    "\n",
    "import pandas as pd\n",
    "\n",
    "pulls_one = pd.read_csv('datasets/pulls_2011-2013.csv')\n",
    "pulls_two = pd.read_csv('datasets/pulls_2014-2018.csv')\n",
    "pull_files = pd.read_csv('datasets/pull_files.csv')\n",
    "\n",
    "print(\"\\nPulls 2011-2013\\n\\n\", pulls_one.head())\n",
    "print(\"\\nPulls 2014-2018\\n\\n\",pulls_two.head())\n",
    "print(\"\\nPull files\\n\\n\", pull_files.head())"
   ]
  },
  {
   "cell_type": "code",
   "execution_count": 19,
   "id": "bbdbd9e4",
   "metadata": {},
   "outputs": [
    {
     "name": "stdout",
     "output_type": "stream",
     "text": [
      "Total Pulls:\n",
      "         pid         user                      date\n",
      "0  11166973  VladimirNik 2013-12-31 23:10:55+00:00\n",
      "1  11161892      Ichoran 2013-12-31 16:55:47+00:00\n",
      "2  11153894      Ichoran 2013-12-31 02:41:13+00:00\n",
      "3  11151917      rklaehn 2013-12-30 23:45:47+00:00\n",
      "4  11131244        qerub 2013-12-29 17:21:01+00:00\n"
     ]
    }
   ],
   "source": [
    "#Append pulls_one and pulls_two\n",
    "\n",
    "pulls = pulls_one.append(pulls_two)\n",
    "\n",
    "#Convert the dates\n",
    "pulls['date'] = pd.to_datetime(pulls['date'], utc=True)\n",
    "\n",
    "print(\"Total Pulls:\\n\", pulls.head())\n"
   ]
  },
  {
   "cell_type": "code",
   "execution_count": 23,
   "id": "f1151556",
   "metadata": {},
   "outputs": [
    {
     "name": "stdout",
     "output_type": "stream",
     "text": [
      "Pulls + files: \n",
      "         pid         user                      date  \\\n",
      "0  11166973  VladimirNik 2013-12-31 23:10:55+00:00   \n",
      "1  11166973  VladimirNik 2013-12-31 23:10:55+00:00   \n",
      "2  11166973  VladimirNik 2013-12-31 23:10:55+00:00   \n",
      "3  11166973  VladimirNik 2013-12-31 23:10:55+00:00   \n",
      "4  11161892      Ichoran 2013-12-31 16:55:47+00:00   \n",
      "\n",
      "                                                file  \n",
      "0       src/reflect/scala/reflect/api/Printers.scala  \n",
      "1  src/reflect/scala/reflect/internal/Printers.scala  \n",
      "2                    test/files/run/reify_ann3.check  \n",
      "3  test/junit/scala/reflect/internal/PrintersTest...  \n",
      "4  src/library/scala/collection/mutable/ArrayOps....  \n"
     ]
    }
   ],
   "source": [
    "#Merging the dataframes\n",
    "\n",
    "data = pulls.merge(pull_files, on='pid')\n",
    "\n",
    "print(\"Pulls + files: \\n\", data.head())\n"
   ]
  },
  {
   "cell_type": "code",
   "execution_count": 29,
   "id": "03635616",
   "metadata": {},
   "outputs": [
    {
     "name": "stderr",
     "output_type": "stream",
     "text": [
      "C:\\Users\\Kalin\\anaconda3\\lib\\site-packages\\pandas\\core\\arrays\\datetimes.py:1101: UserWarning: Converting to PeriodArray/Index representation will drop timezone information.\n",
      "  warnings.warn(\n"
     ]
    },
    {
     "name": "stdout",
     "output_type": "stream",
     "text": [
      "        pid         user                      date  \\\n",
      "0  11166973  VladimirNik 2013-12-31 23:10:55+00:00   \n",
      "1  11166973  VladimirNik 2013-12-31 23:10:55+00:00   \n",
      "2  11166973  VladimirNik 2013-12-31 23:10:55+00:00   \n",
      "3  11166973  VladimirNik 2013-12-31 23:10:55+00:00   \n",
      "4  11161892      Ichoran 2013-12-31 16:55:47+00:00   \n",
      "\n",
      "                                                file    month  year  \n",
      "0       src/reflect/scala/reflect/api/Printers.scala  2013-12  2013  \n",
      "1  src/reflect/scala/reflect/internal/Printers.scala  2013-12  2013  \n",
      "2                    test/files/run/reify_ann3.check  2013-12  2013  \n",
      "3  test/junit/scala/reflect/internal/PrintersTest...  2013-12  2013  \n",
      "4  src/library/scala/collection/mutable/ArrayOps....  2013-12  2013  \n"
     ]
    },
    {
     "data": {
      "text/plain": [
       "<AxesSubplot:xlabel='month'>"
      ]
     },
     "execution_count": 29,
     "metadata": {},
     "output_type": "execute_result"
    },
    {
     "data": {
      "image/png": "[encoded data removed]",
      "text/plain": [
       "<Figure size 1152x288 with 1 Axes>"
      ]
     },
     "metadata": {
      "needs_background": "light"
     },
     "output_type": "display_data"
    }
   ],
   "source": [
    "#Check if the project is active\n",
    "\n",
    "%matplotlib inline\n",
    "\n",
    "#Storing the month\n",
    "data['month'] = data['date'].dt.to_period('M')\n",
    "#Storing the year\n",
    "data['year'] = data['date'].dt.to_period('Y')\n",
    "\n",
    "print(data.head())\n",
    "\n",
    "\n",
    "#Group by month and year, and count the pull requests\n",
    "\n",
    "counts = data.groupby('month')['pid'].count()\n",
    "\n",
    "counts.plot(kind='bar', figsize=(16,4))"
   ]
  },
  {
   "cell_type": "code",
   "execution_count": 41,
   "id": "cca0f535",
   "metadata": {},
   "outputs": [
    {
     "name": "stdout",
     "output_type": "stream",
     "text": [
      "               pid\n",
      "user              \n",
      "0xmohit          2\n",
      "193s             4\n",
      "2m              20\n",
      "4.00E+06        22\n",
      "AlexeyIvanov8    2\n"
     ]
    },
    {
     "data": {
      "text/plain": [
       "array([[<AxesSubplot:title={'center':'pid'}>]], dtype=object)"
      ]
     },
     "execution_count": 41,
     "metadata": {},
     "output_type": "execute_result"
    },
    {
     "data": {
      "image/png": "[encoded data removed]",
      "text/plain": [
       "<Figure size 432x288 with 1 Axes>"
      ]
     },
     "metadata": {
      "needs_background": "light"
     },
     "output_type": "display_data"
    }
   ],
   "source": [
    "#Summing the contributors\n",
    "\n",
    "%matplotlib inline\n",
    "\n",
    "#Group by user\n",
    "by_user = data.groupby('user').agg({\n",
    "    'pid':'count'\n",
    "})\n",
    "\n",
    "print(by_user.head())\n",
    "#Plot the histogram\n",
    "\n",
    "by_user.hist()"
   ]
  },
  {
   "cell_type": "code",
   "execution_count": 44,
   "id": "fd6420b3",
   "metadata": {},
   "outputs": [
    {
     "name": "stdout",
     "output_type": "stream",
     "text": [
      "Ten latest pull requests:\n",
      "          pid       user                      date\n",
      "0  163314316     hrhino 2018-01-16 23:29:16+00:00\n",
      "1  163061502   joroKr21 2018-01-15 23:44:52+00:00\n",
      "2  163057333  mkeskells 2018-01-15 23:05:06+00:00\n",
      "3  162985594      lrytz 2018-01-15 15:52:39+00:00\n",
      "4  162838837  zuvizudar 2018-01-14 19:16:16+00:00\n"
     ]
    }
   ],
   "source": [
    "#Files that has been changed in last 10 pull requests\n",
    "\n",
    "last_10 = pulls.sort_values('date', ascending=False).nlargest(10, 'date')\n",
    "\n",
    "print(\"Ten latest pull requests:\\n\", last_10.head())"
   ]
  },
  {
   "cell_type": "code",
   "execution_count": 51,
   "id": "bd521228",
   "metadata": {},
   "outputs": [
    {
     "name": "stdout",
     "output_type": "stream",
     "text": [
      "         pid                                   file    user  \\\n",
      "0  163314316        test/files/pos/t5638/Among.java  hrhino   \n",
      "1  163314316       test/files/pos/t5638/Usage.scala  hrhino   \n",
      "2  163314316             test/files/pos/t9291.scala  hrhino   \n",
      "3  163314316             test/files/run/t8348.check  hrhino   \n",
      "4  163314316  test/files/run/t8348/TableColumn.java  hrhino   \n",
      "\n",
      "                       date  \n",
      "0 2018-01-16 23:29:16+00:00  \n",
      "1 2018-01-16 23:29:16+00:00  \n",
      "2 2018-01-16 23:29:16+00:00  \n",
      "3 2018-01-16 23:29:16+00:00  \n",
      "4 2018-01-16 23:29:16+00:00  \n",
      "\n",
      "Unique files: \n",
      "\n",
      "test/files/run/t8348/TableColumn.java\n",
      "test/files/pos/t5638/Among.java\n",
      "src/compiler/scala/tools/nsc/backend/jvm/BCodeHelpers.scala\n",
      "test/files/pos/t10686.scala\n",
      "src/compiler/scala/tools/nsc/profile/Profiler.scala\n",
      "doc/LICENSE.md\n",
      "src/reflect/scala/reflect/internal/tpe/GlbLubs.scala\n",
      "src/library/scala/Predef.scala\n",
      "src/scalap/decoder.properties\n",
      "src/reflect/scala/reflect/internal/pickling/ByteCodecs.scala\n",
      "test/files/run/t8348/Test.scala\n",
      "src/scaladoc/scala/tools/nsc/doc/html/page/Entity.scala\n",
      "test/files/pos/leibniz-liskov.scala\n",
      "src/compiler/scala/tools/nsc/backend/jvm/analysis/BackendUtils.scala\n",
      "src/compiler/scala/tools/nsc/symtab/classfile/ClassfileParser.scala\n",
      "src/library/scala/concurrent/Lock.scala\n",
      "test/files/pos/parallel-classloader.scala\n",
      "test/files/pos/t10568/Converter.java\n",
      "LICENSE\n",
      "src/library/scala/util/Properties.scala\n",
      "src/compiler/scala/tools/nsc/backend/jvm/PostProcessor.scala\n",
      "test/files/pos/t9291.scala\n",
      "test/files/run/t8348/TableColumnImpl.java\n",
      "test/files/pos/t10568/Impl.scala\n",
      "doc/License.rtf\n",
      "src/compiler/scala/tools/nsc/profile/AsyncHelper.scala\n",
      "test/files/neg/leibniz-liskov.check\n",
      "src/compiler/scala/tools/nsc/typechecker/Contexts.scala\n",
      "test/files/pos/leibniz_liskov.scala\n",
      "project/VersionUtil.scala\n",
      "test/files/pos/t5638/Usage.scala\n",
      "test/files/neg/leibniz-liskov.scala\n",
      "test/files/run/t8348.check\n",
      "src/compiler/scala/reflect/reify/phases/Calculate.scala\n"
     ]
    }
   ],
   "source": [
    "#Joining files with latest pull requests\n",
    "\n",
    "joined_pr = pull_files.merge(last_10, on='pid')\n",
    "print(joined_pr.head())\n",
    "\n",
    "\n",
    "#Indentify unique values\n",
    "\n",
    "files = set(joined_pr['file'])\n",
    "\n",
    "print(\"\\nUnique files: \\n\")\n",
    "for file in files:\n",
    "    print(file)"
   ]
  },
  {
   "cell_type": "code",
   "execution_count": 57,
   "id": "c9195a22",
   "metadata": {},
   "outputs": [
    {
     "name": "stdout",
     "output_type": "stream",
     "text": [
      "             pid          user                      date  \\\n",
      "1234    10587633      retronym 2013-12-06 10:04:43+00:00   \n",
      "12514    5320191           soc 2013-04-23 15:47:45+00:00   \n",
      "12823    5291974  bjornregnell 2013-04-22 13:56:06+00:00   \n",
      "13381    5050360      retronym 2013-04-09 06:13:57+00:00   \n",
      "13779    5026775      retronym 2013-04-08 07:07:45+00:00   \n",
      "14970    4786005     starblood 2013-03-25 02:48:48+00:00   \n",
      "17127    4295399      retronym 2013-02-24 21:43:43+00:00   \n",
      "18341    4019878           soc 2013-02-06 18:24:21+00:00   \n",
      "19174    3918789  gkossakowski 2013-01-31 00:43:19+00:00   \n",
      "19834    3854688        melloc 2013-01-26 22:47:32+00:00   \n",
      "24668    3290864         densh 2012-12-08 15:18:04+00:00   \n",
      "27074    2919907         paulp 2012-11-07 21:13:47+00:00   \n",
      "28951    2721711           soc 2012-10-21 19:58:20+00:00   \n",
      "35284    2089264         paulp 2012-08-17 16:15:26+00:00   \n",
      "35498    2072662       xeno-by 2012-08-16 05:39:22+00:00   \n",
      "35608    2071228       xeno-by 2012-08-15 23:41:59+00:00   \n",
      "36860    1984445           soc 2012-08-06 18:38:28+00:00   \n",
      "42404    1522783       xeno-by 2012-06-08 13:43:35+00:00   \n",
      "42712    1522613       xeno-by 2012-06-08 13:22:10+00:00   \n",
      "43102    1482038       xeno-by 2012-06-03 18:01:36+00:00   \n",
      "43435    1482035       xeno-by 2012-06-03 18:00:39+00:00   \n",
      "43751    1480230       xeno-by 2012-06-02 17:20:02+00:00   \n",
      "46086    1210959       xeno-by 2012-04-22 22:50:51+00:00   \n",
      "46789    1164069       odersky 2012-04-14 02:21:49+00:00   \n",
      "47089    1163831       odersky 2012-04-14 00:40:37+00:00   \n",
      "47702    1150233       xeno-by 2012-04-12 10:25:43+00:00   \n",
      "48016    1148013       xeno-by 2012-04-12 00:05:33+00:00   \n",
      "51415  162838837     zuvizudar 2018-01-14 19:16:16+00:00   \n",
      "78353   22845163      retronym 2014-10-16 10:23:42+00:00   \n",
      "84155   12102550       xeno-by 2014-02-01 01:19:58+00:00   \n",
      "\n",
      "                                                    file    month  year  \n",
      "1234   src/compiler/scala/reflect/reify/phases/Calcul...  2013-12  2013  \n",
      "12514  src/compiler/scala/reflect/reify/phases/Calcul...  2013-04  2013  \n",
      "12823  src/compiler/scala/reflect/reify/phases/Calcul...  2013-04  2013  \n",
      "13381  src/compiler/scala/reflect/reify/phases/Calcul...  2013-04  2013  \n",
      "13779  src/compiler/scala/reflect/reify/phases/Calcul...  2013-04  2013  \n",
      "14970  src/compiler/scala/reflect/reify/phases/Calcul...  2013-03  2013  \n",
      "17127  src/compiler/scala/reflect/reify/phases/Calcul...  2013-02  2013  \n",
      "18341  src/compiler/scala/reflect/reify/phases/Calcul...  2013-02  2013  \n",
      "19174  src/compiler/scala/reflect/reify/phases/Calcul...  2013-01  2013  \n",
      "19834  src/compiler/scala/reflect/reify/phases/Calcul...  2013-01  2013  \n",
      "24668  src/compiler/scala/reflect/reify/phases/Calcul...  2012-12  2012  \n",
      "27074  src/compiler/scala/reflect/reify/phases/Calcul...  2012-11  2012  \n",
      "28951  src/compiler/scala/reflect/reify/phases/Calcul...  2012-10  2012  \n",
      "35284  src/compiler/scala/reflect/reify/phases/Calcul...  2012-08  2012  \n",
      "35498  src/compiler/scala/reflect/reify/phases/Calcul...  2012-08  2012  \n",
      "35608  src/compiler/scala/reflect/reify/phases/Calcul...  2012-08  2012  \n",
      "36860  src/compiler/scala/reflect/reify/phases/Calcul...  2012-08  2012  \n",
      "42404  src/compiler/scala/reflect/reify/phases/Calcul...  2012-06  2012  \n",
      "42712  src/compiler/scala/reflect/reify/phases/Calcul...  2012-06  2012  \n",
      "43102  src/compiler/scala/reflect/reify/phases/Calcul...  2012-06  2012  \n",
      "43435  src/compiler/scala/reflect/reify/phases/Calcul...  2012-06  2012  \n",
      "43751  src/compiler/scala/reflect/reify/phases/Calcul...  2012-06  2012  \n",
      "46086  src/compiler/scala/reflect/reify/phases/Calcul...  2012-04  2012  \n",
      "46789  src/compiler/scala/reflect/reify/phases/Calcul...  2012-04  2012  \n",
      "47089  src/compiler/scala/reflect/reify/phases/Calcul...  2012-04  2012  \n",
      "47702  src/compiler/scala/reflect/reify/phases/Calcul...  2012-04  2012  \n",
      "48016  src/compiler/scala/reflect/reify/phases/Calcul...  2012-04  2012  \n",
      "51415  src/compiler/scala/reflect/reify/phases/Calcul...  2018-01  2018  \n",
      "78353  src/compiler/scala/reflect/reify/phases/Calcul...  2014-10  2014  \n",
      "84155  src/compiler/scala/reflect/reify/phases/Calcul...  2014-02  2014  \n",
      "\n",
      "Most active authors:\n",
      " xeno-by     11\n",
      "retronym     5\n",
      "soc          4\n",
      "Name: user, dtype: int64\n"
     ]
    }
   ],
   "source": [
    "#Interesting file\n",
    "file = 'src/compiler/scala/reflect/reify/phases/Calculate.scala'\n",
    "\n",
    "#Indentify commits that changed the file\n",
    "\n",
    "file_pr = data[data['file'] == file]\n",
    "print(file_pr)\n",
    "\n",
    "#Count the number of changes made by each developer\n",
    "\n",
    "author_counts = file_pr['user'].value_counts(sort=True)\n",
    "\n",
    "print(\"\\nMost active authors:\\n\", author_counts.head(3))"
   ]
  },
  {
   "cell_type": "code",
   "execution_count": 62,
   "id": "c300de05",
   "metadata": {},
   "outputs": [
    {
     "name": "stdout",
     "output_type": "stream",
     "text": [
      "             pid                                               file\n",
      "13     162838837  src/compiler/scala/reflect/reify/phases/Calcul...\n",
      "26951   22845163  src/compiler/scala/reflect/reify/phases/Calcul...\n",
      "32753   12102550  src/compiler/scala/reflect/reify/phases/Calcul...\n",
      "{'soc', 'zuvizudar', 'bjornregnell', 'retronym', 'xeno-by', 'starblood'}\n"
     ]
    }
   ],
   "source": [
    "#Last then pull requests\n",
    "\n",
    "file = 'src/compiler/scala/reflect/reify/phases/Calculate.scala'\n",
    "\n",
    "#Select the pull requests that changed the target file\n",
    "\n",
    "file_pr = pull_files[pull_files['file']==file]\n",
    "\n",
    "print(file_pr.head(3))\n",
    "\n",
    "#Merge the obtained results with the pulls DataFrame\n",
    "\n",
    "joined_pr = file_pr.merge(pulls, on='pid')\n",
    "\n",
    "#Find the users of the last 10 most recent pull requests\n",
    "users_last_10 = set(joined_pr.nlargest(10, 'date')['user'])\n",
    "\n",
    "print(users_last_10)"
   ]
  },
  {
   "cell_type": "code",
   "execution_count": 68,
   "id": "ac1fac42",
   "metadata": {},
   "outputs": [
    {
     "name": "stdout",
     "output_type": "stream",
     "text": [
      "        pid         user                      date\n",
      "0  11166973  VladimirNik 2013-12-31 23:10:55+00:00\n",
      "1  11161892      Ichoran 2013-12-31 16:55:47+00:00\n",
      "2  11153894      Ichoran 2013-12-31 02:41:13+00:00\n",
      "3  11151917      rklaehn 2013-12-30 23:45:47+00:00\n",
      "4  11131244        qerub 2013-12-29 17:21:01+00:00\n",
      "         pid     user                      date\n",
      "7   11126653  xeno-by 2013-12-28 19:39:23+00:00\n",
      "9   11121557  xeno-by 2013-12-27 23:50:56+00:00\n",
      "10  11121465  xeno-by 2013-12-27 23:41:05+00:00\n",
      "11  11121327  xeno-by 2013-12-27 23:25:52+00:00\n",
      "12  11114584  xeno-by 2013-12-27 15:51:50+00:00\n",
      "  user  date  pid\n",
      "0  soc  2011   12\n",
      "1  soc  2012   44\n",
      "2  soc  2013  117\n",
      "3  soc  2014   20\n",
      "4  soc  2015   24\n",
      "user  soc  xeno-by\n",
      "date              \n",
      "2011   12       20\n",
      "2012   44      271\n",
      "2013  117      123\n",
      "2014   20       60\n",
      "2015   24        3\n"
     ]
    },
    {
     "data": {
      "text/plain": [
       "<AxesSubplot:xlabel='date'>"
      ]
     },
     "execution_count": 68,
     "metadata": {},
     "output_type": "execute_result"
    },
    {
     "data": {
      "image/png": "[encoded data removed]",
      "text/plain": [
       "<Figure size 432x288 with 1 Axes>"
      ]
     },
     "metadata": {
      "needs_background": "light"
     },
     "output_type": "display_data"
    }
   ],
   "source": [
    "#The pull requests of two special developers\n",
    "\n",
    "authors = ['xeno-by', 'soc']\n",
    "\n",
    "print(pulls.head())\n",
    "\n",
    "#Get all pull requests from a list of developers\n",
    "by_author = pulls[pulls['user'].isin(authors)]\n",
    "print(by_author.head())\n",
    "\n",
    "#Count the number of pull requests submitted each year\n",
    "\n",
    "counts = by_author.groupby([by_author['user'], by_author['date'].dt.year]).agg({\n",
    "    'pid':'count'\n",
    "}).reset_index()\n",
    "\n",
    "print(counts.head())\n",
    "\n",
    "#Convert table to a wide format\n",
    "\n",
    "counts_wide = counts.pivot_table(index='date', columns='user', values='pid', fill_value=0)\n",
    "print(counts_wide.head())\n",
    "\n",
    "#Plot the results\n",
    "\n",
    "counts_wide.plot(kind='bar')"
   ]
  },
  {
   "cell_type": "code",
   "execution_count": null,
   "id": "6fb7c042",
   "metadata": {},
   "outputs": [],
   "source": []
  }
 ],
 "metadata": {
  "kernelspec": {
   "display_name": "Python 3",
   "language": "python",
   "name": "python3"
  },
  "language_info": {
   "codemirror_mode": {
    "name": "ipython",
    "version": 3
   },
   "file_extension": ".py",
   "mimetype": "text/x-python",
   "name": "python",
   "nbconvert_exporter": "python",
   "pygments_lexer": "ipython3",
   "version": "3.8.8"
  }
 },
 "nbformat": 4,
 "nbformat_minor": 5
}
